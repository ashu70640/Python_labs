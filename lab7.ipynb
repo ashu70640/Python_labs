{
 "cells": [
  {
   "cell_type": "markdown",
   "metadata": {},
   "source": [
    "## Write a program to multiply two numbers using functions. \n"
   ]
  },
  {
   "cell_type": "code",
   "execution_count": 4,
   "metadata": {},
   "outputs": [
    {
     "name": "stdout",
     "output_type": "stream",
     "text": [
      "60\n"
     ]
    }
   ],
   "source": [
    "def mul(num,num1):\n",
    "    result=num*num1\n",
    "    print(result)\n",
    "    return\n",
    "mul(20,3)"
   ]
  },
  {
   "cell_type": "markdown",
   "metadata": {},
   "source": [
    "## Write a program to add two numbers using functions. "
   ]
  },
  {
   "cell_type": "code",
   "execution_count": 5,
   "metadata": {},
   "outputs": [
    {
     "name": "stdout",
     "output_type": "stream",
     "text": [
      "10\n"
     ]
    }
   ],
   "source": [
    "def add(num,num1):\n",
    "    result=num+num1\n",
    "    print(result)\n",
    "    return\n",
    "add(4,6)"
   ]
  },
  {
   "cell_type": "markdown",
   "metadata": {},
   "source": [
    "## Calculate factorial of a number using function. "
   ]
  },
  {
   "cell_type": "code",
   "execution_count": 16,
   "metadata": {},
   "outputs": [
    {
     "data": {
      "text/plain": [
       "24"
      ]
     },
     "execution_count": 16,
     "metadata": {},
     "output_type": "execute_result"
    }
   ],
   "source": [
    "def fact(num):\n",
    "    if(num==0):\n",
    "        return 1\n",
    "    else:\n",
    "        return num*fact(num-1)\n",
    "    return\n",
    "fact(4)\n"
   ]
  },
  {
   "cell_type": "markdown",
   "metadata": {},
   "source": [
    "## Create sequence of Fibonacci using function. "
   ]
  },
  {
   "cell_type": "code",
   "execution_count": 38,
   "metadata": {},
   "outputs": [
    {
     "data": {
      "text/plain": [
       "[1, 1, 2, 3, 5]"
      ]
     },
     "execution_count": 38,
     "metadata": {},
     "output_type": "execute_result"
    }
   ],
   "source": [
    "lst=[]\n",
    "def fib(num):\n",
    "    n=1\n",
    "    n2=1\n",
    "    lst.append(n)\n",
    "    lst.append(n2)\n",
    "    for i in range(3,num+1):\n",
    "        n3=n+n2\n",
    "        n=n2\n",
    "        n2=n3\n",
    "        lst.append(n3)\n",
    "    return lst\n",
    "fib(5)"
   ]
  },
  {
   "cell_type": "markdown",
   "metadata": {},
   "source": [
    "## Write a program to swapping of two numbers using functions"
   ]
  },
  {
   "cell_type": "code",
   "execution_count": 27,
   "metadata": {},
   "outputs": [
    {
     "name": "stdout",
     "output_type": "stream",
     "text": [
      "enter the first number: 8\n",
      "enter the second number: 4\n",
      "numbers before swapping:  8 4\n",
      "numbers after swapping:  4 8\n"
     ]
    }
   ],
   "source": [
    "def swap(n,n2):\n",
    "    temp=n\n",
    "    n=n2\n",
    "    n2=temp\n",
    "    return (n+\" \"+n2)\n",
    "num=input(\"enter the first number: \")\n",
    "num2=input(\"enter the second number: \")\n",
    "print(\"numbers before swapping: \",num,num2)\n",
    "print(\"numbers after swapping: \",swap(num,num2))\n",
    "\n",
    "    "
   ]
  },
  {
   "cell_type": "markdown",
   "metadata": {},
   "source": [
    "## Write a function to find the HCF of some given numbers. "
   ]
  },
  {
   "cell_type": "code",
   "execution_count": 29,
   "metadata": {},
   "outputs": [
    {
     "name": "stdout",
     "output_type": "stream",
     "text": [
      "enter the first number: 45\n",
      "enter the second number: 23\n",
      "the hcf of the numbers is:  1\n"
     ]
    }
   ],
   "source": [
    "def hcf(n,n2):\n",
    "    if(n>n2):\n",
    "        smaller=n2\n",
    "    else:\n",
    "        smaller=n\n",
    "    for i in range(1,smaller+1):\n",
    "        if(n%i==0 and n2%i==0):\n",
    "            hcf=i\n",
    "    return hcf \n",
    "n=int(input(\"enter the first number: \"))\n",
    "n2=int(input(\"enter the second number: \"))\n",
    "print(\"the hcf of the numbers is: \",hcf(n,n2))\n",
    "\n",
    "    \n",
    "    \n",
    "    "
   ]
  },
  {
   "cell_type": "markdown",
   "metadata": {},
   "source": [
    "## Write a function to find the ASCII value of the character. "
   ]
  },
  {
   "cell_type": "code",
   "execution_count": 33,
   "metadata": {},
   "outputs": [
    {
     "name": "stdout",
     "output_type": "stream",
     "text": [
      "enter the value: G\n",
      "ascii value of G is:  71\n"
     ]
    }
   ],
   "source": [
    "def ch(value):\n",
    "    ord(value)\n",
    "    return ord(value)\n",
    "val=input(\"enter the value: \")    \n",
    "print(\"ascii value of \"+val+\" is: \",ch(val))    \n"
   ]
  },
  {
   "cell_type": "markdown",
   "metadata": {},
   "source": [
    "## Write a program that demonstrates the ( built in function)  mathematical functions"
   ]
  },
  {
   "cell_type": "code",
   "execution_count": 37,
   "metadata": {},
   "outputs": [
    {
     "name": "stdout",
     "output_type": "stream",
     "text": [
      "enter the number: 6\n"
     ]
    },
    {
     "data": {
      "text/plain": [
       "720"
      ]
     },
     "execution_count": 37,
     "metadata": {},
     "output_type": "execute_result"
    }
   ],
   "source": [
    "import math\n",
    "num=int(input(\"enter the number: \"))\n",
    "math.factorial(num)"
   ]
  },
  {
   "cell_type": "markdown",
   "metadata": {},
   "source": [
    "## Write a program that demonstrates the ( built in function)  Date & Time functions."
   ]
  },
  {
   "cell_type": "code",
   "execution_count": 40,
   "metadata": {},
   "outputs": [
    {
     "name": "stdout",
     "output_type": "stream",
     "text": [
      "2021-03-03\n"
     ]
    }
   ],
   "source": [
    "import datetime\n",
    "from datetime import date\n",
    "current=date.today()\n",
    "print(current)"
   ]
  },
  {
   "cell_type": "code",
   "execution_count": 48,
   "metadata": {},
   "outputs": [
    {
     "name": "stdout",
     "output_type": "stream",
     "text": [
      "Local current time : Wed Mar  3 13:43:19 2021\n"
     ]
    }
   ],
   "source": [
    "import time;\n",
    "localtime = time.asctime( time.localtime(time.time()) )\n",
    "print(\"Local current time :\", localtime)"
   ]
  },
  {
   "cell_type": "markdown",
   "metadata": {},
   "source": [
    "## Write a program that demonstrates Required arguments. "
   ]
  },
  {
   "cell_type": "code",
   "execution_count": 49,
   "metadata": {},
   "outputs": [
    {
     "name": "stdout",
     "output_type": "stream",
     "text": [
      "enter the valueAshutosh\n"
     ]
    },
    {
     "data": {
      "text/plain": [
       "'Ashutosh'"
      ]
     },
     "execution_count": 49,
     "metadata": {},
     "output_type": "execute_result"
    }
   ],
   "source": [
    "def show(value):\n",
    "    return value\n",
    "val=input(\"enter the value\")\n",
    "show(val)"
   ]
  },
  {
   "cell_type": "markdown",
   "metadata": {},
   "source": [
    "## Write a program that demonstrates keyword arguments. "
   ]
  },
  {
   "cell_type": "code",
   "execution_count": 50,
   "metadata": {},
   "outputs": [
    {
     "name": "stdout",
     "output_type": "stream",
     "text": [
      "wise person is: Ashu\n"
     ]
    }
   ],
   "source": [
    "def persons(name,name2):\n",
    "    print(\"wise person is: \"+ name)\n",
    "persons(name=\"Ashu\",name2=\"dinesh\")  "
   ]
  },
  {
   "cell_type": "markdown",
   "metadata": {},
   "source": [
    "## Write a program that demonstrates Default arguments. "
   ]
  },
  {
   "cell_type": "code",
   "execution_count": 53,
   "metadata": {},
   "outputs": [
    {
     "name": "stdout",
     "output_type": "stream",
     "text": [
      "ashu yadav\n",
      "prince ranjan\n"
     ]
    }
   ],
   "source": [
    "def description(name,cast=\"yadav\"):\n",
    "    print(name+\" \"+cast)\n",
    "description(\"ashu\")\n",
    "description(\"prince\",\"ranjan\")"
   ]
  },
  {
   "cell_type": "markdown",
   "metadata": {},
   "source": [
    "## Write a program that demonstrates Variable –length arguments. "
   ]
  },
  {
   "cell_type": "code",
   "execution_count": 57,
   "metadata": {},
   "outputs": [
    {
     "data": {
      "text/plain": [
       "7"
      ]
     },
     "execution_count": 57,
     "metadata": {},
     "output_type": "execute_result"
    }
   ],
   "source": [
    "def add(*args):\n",
    "    a=0\n",
    "    for i in args:\n",
    "        a+=i\n",
    "    return a\n",
    "add(3,4)"
   ]
  },
  {
   "cell_type": "code",
   "execution_count": 58,
   "metadata": {},
   "outputs": [
    {
     "data": {
      "text/plain": [
       "17"
      ]
     },
     "execution_count": 58,
     "metadata": {},
     "output_type": "execute_result"
    }
   ],
   "source": [
    "add(4,6,7)"
   ]
  },
  {
   "cell_type": "code",
   "execution_count": 59,
   "metadata": {},
   "outputs": [
    {
     "data": {
      "text/plain": [
       "26"
      ]
     },
     "execution_count": 59,
     "metadata": {},
     "output_type": "execute_result"
    }
   ],
   "source": [
    "add(6,8,9,3)"
   ]
  },
  {
   "cell_type": "code",
   "execution_count": null,
   "metadata": {},
   "outputs": [],
   "source": []
  }
 ],
 "metadata": {
  "kernelspec": {
   "display_name": "Python 3",
   "language": "python",
   "name": "python3"
  },
  "language_info": {
   "codemirror_mode": {
    "name": "ipython",
    "version": 3
   },
   "file_extension": ".py",
   "mimetype": "text/x-python",
   "name": "python",
   "nbconvert_exporter": "python",
   "pygments_lexer": "ipython3",
   "version": "3.8.5"
  }
 },
 "nbformat": 4,
 "nbformat_minor": 4
}
